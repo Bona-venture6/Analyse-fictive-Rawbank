{
 "cells": [
  {
   "cell_type": "code",
   "execution_count": 98,
   "id": "6114b145-8cfb-453b-9eef-7f9bf7d0ba7d",
   "metadata": {},
   "outputs": [
    {
     "data": {
      "text/html": [
       "<div>\n",
       "<style scoped>\n",
       "    .dataframe tbody tr th:only-of-type {\n",
       "        vertical-align: middle;\n",
       "    }\n",
       "\n",
       "    .dataframe tbody tr th {\n",
       "        vertical-align: top;\n",
       "    }\n",
       "\n",
       "    .dataframe thead th {\n",
       "        text-align: right;\n",
       "    }\n",
       "</style>\n",
       "<table border=\"1\" class=\"dataframe\">\n",
       "  <thead>\n",
       "    <tr style=\"text-align: right;\">\n",
       "      <th></th>\n",
       "      <th>ID_Transaction</th>\n",
       "      <th>Date</th>\n",
       "      <th>Agence</th>\n",
       "      <th>Type_Operation</th>\n",
       "      <th>Client</th>\n",
       "      <th>Montant</th>\n",
       "    </tr>\n",
       "  </thead>\n",
       "  <tbody>\n",
       "    <tr>\n",
       "      <th>0</th>\n",
       "      <td>T1000</td>\n",
       "      <td>2025-04-01</td>\n",
       "      <td>Ngaliema</td>\n",
       "      <td>Paiement</td>\n",
       "      <td>Client D</td>\n",
       "      <td>466298</td>\n",
       "    </tr>\n",
       "    <tr>\n",
       "      <th>1</th>\n",
       "      <td>T1001</td>\n",
       "      <td>2025-04-02</td>\n",
       "      <td>Limete</td>\n",
       "      <td>Paiement</td>\n",
       "      <td>Client A</td>\n",
       "      <td>387393</td>\n",
       "    </tr>\n",
       "    <tr>\n",
       "      <th>2</th>\n",
       "      <td>T1002</td>\n",
       "      <td>2025-04-03</td>\n",
       "      <td>Ngaliema</td>\n",
       "      <td>Paiement</td>\n",
       "      <td>Client C</td>\n",
       "      <td>35754</td>\n",
       "    </tr>\n",
       "    <tr>\n",
       "      <th>3</th>\n",
       "      <td>T1003</td>\n",
       "      <td>2025-04-04</td>\n",
       "      <td>Ngaliema</td>\n",
       "      <td>Virement</td>\n",
       "      <td>Client B</td>\n",
       "      <td>227814</td>\n",
       "    </tr>\n",
       "    <tr>\n",
       "      <th>4</th>\n",
       "      <td>T1004</td>\n",
       "      <td>2025-04-05</td>\n",
       "      <td>Limete</td>\n",
       "      <td>Virement</td>\n",
       "      <td>Client A</td>\n",
       "      <td>238714</td>\n",
       "    </tr>\n",
       "    <tr>\n",
       "      <th>5</th>\n",
       "      <td>T1005</td>\n",
       "      <td>2025-04-06</td>\n",
       "      <td>Limete</td>\n",
       "      <td>Virement</td>\n",
       "      <td>Client A</td>\n",
       "      <td>143483</td>\n",
       "    </tr>\n",
       "    <tr>\n",
       "      <th>6</th>\n",
       "      <td>T1006</td>\n",
       "      <td>2025-04-07</td>\n",
       "      <td>Ngaliema</td>\n",
       "      <td>Dépôt</td>\n",
       "      <td>Client A</td>\n",
       "      <td>134983</td>\n",
       "    </tr>\n",
       "    <tr>\n",
       "      <th>7</th>\n",
       "      <td>T1007</td>\n",
       "      <td>2025-04-08</td>\n",
       "      <td>Gombe</td>\n",
       "      <td>Paiement</td>\n",
       "      <td>Client C</td>\n",
       "      <td>461486</td>\n",
       "    </tr>\n",
       "    <tr>\n",
       "      <th>8</th>\n",
       "      <td>T1008</td>\n",
       "      <td>2025-04-09</td>\n",
       "      <td>Ngaliema</td>\n",
       "      <td>Virement</td>\n",
       "      <td>Client B</td>\n",
       "      <td>215835</td>\n",
       "    </tr>\n",
       "    <tr>\n",
       "      <th>9</th>\n",
       "      <td>T1009</td>\n",
       "      <td>2025-04-10</td>\n",
       "      <td>Ngaliema</td>\n",
       "      <td>Virement</td>\n",
       "      <td>Client A</td>\n",
       "      <td>402896</td>\n",
       "    </tr>\n",
       "  </tbody>\n",
       "</table>\n",
       "</div>"
      ],
      "text/plain": [
       "  ID_Transaction        Date    Agence Type_Operation    Client  Montant\n",
       "0          T1000  2025-04-01  Ngaliema       Paiement  Client D   466298\n",
       "1          T1001  2025-04-02    Limete       Paiement  Client A   387393\n",
       "2          T1002  2025-04-03  Ngaliema       Paiement  Client C    35754\n",
       "3          T1003  2025-04-04  Ngaliema       Virement  Client B   227814\n",
       "4          T1004  2025-04-05    Limete       Virement  Client A   238714\n",
       "5          T1005  2025-04-06    Limete       Virement  Client A   143483\n",
       "6          T1006  2025-04-07  Ngaliema          Dépôt  Client A   134983\n",
       "7          T1007  2025-04-08     Gombe       Paiement  Client C   461486\n",
       "8          T1008  2025-04-09  Ngaliema       Virement  Client B   215835\n",
       "9          T1009  2025-04-10  Ngaliema       Virement  Client A   402896"
      ]
     },
     "execution_count": 98,
     "metadata": {},
     "output_type": "execute_result"
    }
   ],
   "source": [
    "import pandas as pd\n",
    "import openpyxl\n",
    "from openpyxl import load_workbook\n",
    "\n",
    "# Charger les données\n",
    "df = pd.read_excel(r\"C:\\Users\\Cellphone\\Downloads\\transactions_rawbank_fictif.xlsx\")\n",
    "\n",
    "# Affichage des premières lignes\n",
    "df.head(10)"
   ]
  },
  {
   "cell_type": "code",
   "execution_count": 99,
   "id": "a03364b7-bebe-4478-81ec-965fb06a0191",
   "metadata": {},
   "outputs": [
    {
     "name": "stdout",
     "output_type": "stream",
     "text": [
      "ID_Transaction    0\n",
      "Date              0\n",
      "Agence            0\n",
      "Type_Operation    0\n",
      "Client            0\n",
      "Montant           0\n",
      "dtype: int64\n"
     ]
    }
   ],
   "source": [
    "# Vérifier s'il y a des valeurs manquantes \n",
    "print(df.isnull().sum())"
   ]
  },
  {
   "cell_type": "code",
   "execution_count": null,
   "id": "5f45c125-839c-4b92-978b-e48450b21721",
   "metadata": {},
   "outputs": [],
   "source": []
  },
  {
   "cell_type": "code",
   "execution_count": 100,
   "id": "f0ecf6ab-2a8e-473c-852a-9206ce22559a",
   "metadata": {},
   "outputs": [
    {
     "data": {
      "text/plain": [
       "Type_Operation\n",
       "Virement    8574456\n",
       "Paiement    6866256\n",
       "Dépôt       4886308\n",
       "Retrait     4298103\n",
       "Name: Montant, dtype: int64"
      ]
     },
     "execution_count": 100,
     "metadata": {},
     "output_type": "execute_result"
    }
   ],
   "source": [
    "# Total par type d'opération \n",
    "operations = df.groupby('Type_Operation')['Montant'].sum().sort_values(ascending=False)\n",
    "operations"
   ]
  },
  {
   "cell_type": "code",
   "execution_count": 101,
   "id": "31280122-1fcb-4c08-b292-70faa0670bcb",
   "metadata": {},
   "outputs": [
    {
     "name": "stdout",
     "output_type": "stream",
     "text": [
      "     Agence  count\n",
      "0     Gombe     36\n",
      "1    Limete     33\n",
      "2  Ngaliema     31\n"
     ]
    }
   ],
   "source": [
    "# Nombre de transaction par agence \n",
    "transactions_agences = df.groupby('Agence')['Agence'].value_counts().sort_values(ascending=False).reset_index()\n",
    "print(transactions_agences)\n"
   ]
  },
  {
   "cell_type": "code",
   "execution_count": 118,
   "id": "9d05b5dc-b30b-49c7-b828-cb36e9e1b528",
   "metadata": {},
   "outputs": [
    {
     "data": {
      "text/html": [
       "<div>\n",
       "<style scoped>\n",
       "    .dataframe tbody tr th:only-of-type {\n",
       "        vertical-align: middle;\n",
       "    }\n",
       "\n",
       "    .dataframe tbody tr th {\n",
       "        vertical-align: top;\n",
       "    }\n",
       "\n",
       "    .dataframe thead th {\n",
       "        text-align: right;\n",
       "    }\n",
       "</style>\n",
       "<table border=\"1\" class=\"dataframe\">\n",
       "  <thead>\n",
       "    <tr style=\"text-align: right;\">\n",
       "      <th></th>\n",
       "      <th>Agence</th>\n",
       "      <th>Montant</th>\n",
       "    </tr>\n",
       "  </thead>\n",
       "  <tbody>\n",
       "    <tr>\n",
       "      <th>0</th>\n",
       "      <td>Gombe</td>\n",
       "      <td>8995391</td>\n",
       "    </tr>\n",
       "    <tr>\n",
       "      <th>1</th>\n",
       "      <td>Ngaliema</td>\n",
       "      <td>8161624</td>\n",
       "    </tr>\n",
       "    <tr>\n",
       "      <th>2</th>\n",
       "      <td>Limete</td>\n",
       "      <td>7468108</td>\n",
       "    </tr>\n",
       "  </tbody>\n",
       "</table>\n",
       "</div>"
      ],
      "text/plain": [
       "     Agence  Montant\n",
       "0     Gombe  8995391\n",
       "1  Ngaliema  8161624\n",
       "2    Limete  7468108"
      ]
     },
     "execution_count": 118,
     "metadata": {},
     "output_type": "execute_result"
    }
   ],
   "source": [
    "# Total des montants par agence\n",
    "montant_par_agence= df.groupby('Agence')['Montant'].sum().sort_values(ascending=False).reset_index()\n",
    "montant_par_agence"
   ]
  },
  {
   "cell_type": "code",
   "execution_count": 103,
   "id": "e185df9d-08ad-45d9-9f10-90628678a21e",
   "metadata": {},
   "outputs": [
    {
     "data": {
      "text/plain": [
       "Agence    Type_Operation\n",
       "Gombe     Dépôt             2118425\n",
       "          Paiement          1971470\n",
       "          Retrait           1487643\n",
       "          Virement          3417853\n",
       "Limete    Dépôt             1186897\n",
       "          Paiement          2312210\n",
       "          Retrait           2127804\n",
       "          Virement          1841197\n",
       "Ngaliema  Dépôt             1580986\n",
       "          Paiement          2582576\n",
       "          Retrait            682656\n",
       "          Virement          3315406\n",
       "Name: Montant, dtype: int64"
      ]
     },
     "execution_count": 103,
     "metadata": {},
     "output_type": "execute_result"
    }
   ],
   "source": [
    "# Type d'operation selon les agences\n",
    "\n",
    "t_o = df.groupby(['Agence','Type_Operation'])['Montant'].sum()\n",
    "t_o"
   ]
  },
  {
   "cell_type": "code",
   "execution_count": 111,
   "id": "54c0e70e-cbf8-47b6-9914-223b01a5c7bd",
   "metadata": {},
   "outputs": [
    {
     "data": {
      "text/plain": [
       "Date\n",
       "2025-04-01    1\n",
       "2025-04-02    1\n",
       "2025-04-03    1\n",
       "2025-04-04    1\n",
       "2025-04-05    1\n",
       "             ..\n",
       "2025-07-05    1\n",
       "2025-07-06    1\n",
       "2025-07-07    1\n",
       "2025-07-08    1\n",
       "2025-07-09    1\n",
       "Length: 100, dtype: int64"
      ]
     },
     "execution_count": 111,
     "metadata": {},
     "output_type": "execute_result"
    }
   ],
   "source": [
    "# Nombre d'opération par jour \n",
    "df['Date'] = pd.to_datetime(df['Date'],errors='coerce')\n",
    "operations_par_jour = df.groupby(df['Date'].dt.date).size()\n",
    "operations_par_jour"
   ]
  },
  {
   "cell_type": "code",
   "execution_count": 125,
   "id": "bc3dcffe-5279-488e-b67f-ffe7db3d542a",
   "metadata": {},
   "outputs": [
    {
     "data": {
      "text/plain": [
       "Date\n",
       "April    30\n",
       "July      9\n",
       "June     30\n",
       "May      31\n",
       "dtype: int64"
      ]
     },
     "execution_count": 125,
     "metadata": {},
     "output_type": "execute_result"
    }
   ],
   "source": [
    "# Nombre d'operation par mois \n",
    "operations_par_mois = df.groupby(df['Date'].dt.strftime('%B')).size()\n",
    "operations_par_mois"
   ]
  },
  {
   "cell_type": "code",
   "execution_count": 126,
   "id": "772d6a08-7169-4c8b-a3e0-a090ad07c26f",
   "metadata": {},
   "outputs": [
    {
     "data": {
      "text/plain": [
       "'Client D'"
      ]
     },
     "execution_count": 126,
     "metadata": {},
     "output_type": "execute_result"
    }
   ],
   "source": [
    "# Client le plus actif (avec plus d'opérations)\n",
    "client_frequent = df['Client'].value_counts().idxmax()\n",
    "client_frequent"
   ]
  },
  {
   "cell_type": "code",
   "execution_count": 120,
   "id": "a431c175-c597-46f0-add8-3d37490a0575",
   "metadata": {},
   "outputs": [
    {
     "data": {
      "text/plain": [
       "Type_Operation\n",
       "Virement    34\n",
       "Paiement    25\n",
       "Dépôt       22\n",
       "Retrait     19\n",
       "Name: count, dtype: int64"
      ]
     },
     "execution_count": 120,
     "metadata": {},
     "output_type": "execute_result"
    }
   ],
   "source": [
    "#Volume par type d'opérations\n",
    "volume_par_type = df['Type_Operation'].value_counts()\n",
    "volume_par_type"
   ]
  },
  {
   "cell_type": "code",
   "execution_count": 123,
   "id": "2177da09-0f49-4884-959e-ceec3499d30d",
   "metadata": {},
   "outputs": [
    {
     "name": "stdout",
     "output_type": "stream",
     "text": [
      "Analyse terminée. Resultats enregistrés dans 'analyse_banquier.xlsx'\n"
     ]
    }
   ],
   "source": [
    "# Enregistrer un rapport Excel propre avec resumé\n",
    "\n",
    "with pd.ExcelWriter(\"analyse_banquier.xlsx\",engine = \"openpyxl\") as writer :\n",
    "    df.to_excel(writer,sheet_name='Données',index=False)\n",
    "    # Resumé des opérations \n",
    "    operations_df = operations.reset_index()\n",
    "    operations_df.columns= [\"Type d'opération\",\"Total Montant\"]\n",
    "    operations_df.to_excel(writer,sheet_name='Resumé',index=False)\n",
    "    volume_par_type.to_excel(writer,sheet_name='Volume par type',index=False)\n",
    "    montant_par_agence.to_excel(writer,sheet_name='Montant par Agence')\n",
    "    operations_par_jour.to_excel(writer,sheet_name='Ops_par_jour')\n",
    "    pd.DataFrame({'Client le pus actif':[client_frequent]}).to_excel(writer,sheet_name='Client_actif')\n",
    "    \n",
    "    \n",
    "\n",
    "wb= load_workbook(\"rapport_banque_nettoyé.xlsx\")\n",
    "wb.save(\"rapport_banque_nettoyé.xlsx\")\n",
    "print(\"Analyse terminée. Resultats enregistrés dans 'analyse_banquier.xlsx'\")\n"
   ]
  },
  {
   "cell_type": "code",
   "execution_count": null,
   "id": "82b591aa-f98f-4eec-bcfc-d5599f3ca79f",
   "metadata": {},
   "outputs": [],
   "source": []
  }
 ],
 "metadata": {
  "kernelspec": {
   "display_name": "Python 3 (ipykernel)",
   "language": "python",
   "name": "python3"
  },
  "language_info": {
   "codemirror_mode": {
    "name": "ipython",
    "version": 3
   },
   "file_extension": ".py",
   "mimetype": "text/x-python",
   "name": "python",
   "nbconvert_exporter": "python",
   "pygments_lexer": "ipython3",
   "version": "3.12.7"
  }
 },
 "nbformat": 4,
 "nbformat_minor": 5
}
